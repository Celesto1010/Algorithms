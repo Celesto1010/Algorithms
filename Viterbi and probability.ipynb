{
 "cells": [
  {
   "cell_type": "markdown",
   "metadata": {},
   "source": [
    "## 维特比算法"
   ]
  },
  {
   "cell_type": "markdown",
   "metadata": {},
   "source": [
    "### 概率基础"
   ]
  },
  {
   "cell_type": "markdown",
   "metadata": {},
   "source": [
    "现有三个相同的袋子A、B、C，每个袋子中装有10个除颜色外均相同的小球。其中：袋A中装有6颗红球、4颗白球，袋B中装有3颗红球、7颗白球，袋C中装有5颗红球、5颗白球。  \n",
    "&emsp;  \n",
    "考虑向量$\\mathbf{\\pi}=\\begin{bmatrix}\\frac{1}{3} \\\\ \\frac{1}{3} \\\\ \\frac{1}{3}\\end{bmatrix}$，则$\\mathbf{\\pi}_i表示当选取袋子时，选到第$i$个袋子的概率。$  \n",
    "&emsp;  \n",
    "考虑矩阵$\\mathbf{B}=\\begin{bmatrix} 0.6 & 0.4 \\\\ 0.3 & 0.7 \\\\ 0.5 & 0.5 \\end{bmatrix} $，则$\\mathbf{B}_{i,0}$、$\\mathbf{B}_{i,1}$分别代表从第$i$个袋子中取出红球、取出白球的几率。  \n",
    "&emsp;  "
   ]
  },
  {
   "cell_type": "markdown",
   "metadata": {
    "heading_collapsed": true
   },
   "source": [
    "#### Q1: 现随机选一个袋子，从中随机取一颗球，则取出的球是红球的概率为？"
   ]
  },
  {
   "cell_type": "markdown",
   "metadata": {
    "hidden": true
   },
   "source": [
    "$$\\begin{aligned}P(取出的球是红球) &= \\frac{1}{3}\\times(B_{0,0} + B_{1,0} + B_{2,0}) \\\\ &= \\frac{1}{3}\\times(0.6 + 0.3 + 0.5) \\\\ &= \\frac{7}{15}\\end{aligned}$$"
   ]
  },
  {
   "cell_type": "markdown",
   "metadata": {
    "hidden": true
   },
   "source": [
    "-------------------------"
   ]
  },
  {
   "cell_type": "markdown",
   "metadata": {
    "heading_collapsed": true
   },
   "source": [
    "#### Q2: 现随机选一个袋子，从中随机取一颗球。已知取出的球是红色。则所选的袋子为A的概率为？"
   ]
  },
  {
   "cell_type": "markdown",
   "metadata": {
    "hidden": true
   },
   "source": [
    "$$\\begin{aligned}P(选择的是袋A|取出的球是红色) &= \\frac{P(取出的球是红色|选择的是袋A) \\cdot P(选择的是袋A)}{P(取出的球是红色)} \\\\ &= \\frac{B_{0,0}\\cdot\\pi_0}{\\frac{7}{15}} \\\\ &= \\frac{3}{7}\\end{aligned}$$"
   ]
  },
  {
   "cell_type": "markdown",
   "metadata": {
    "hidden": true
   },
   "source": [
    "-----------------------"
   ]
  },
  {
   "cell_type": "markdown",
   "metadata": {},
   "source": [
    "#### 　　\n",
    "现假设选择袋子并非完全随机，而是对于不同袋子有固定的选取概率。假设选到袋A的概率为0.3，选到袋B的概率为0.5，选到袋C的概率为0.2.   \n",
    "&emsp;  \n",
    "则修改向量$\\pi=\\begin{bmatrix}0.3 \\\\ 0.5 \\\\ 0.2\\end{bmatrix}$"
   ]
  },
  {
   "cell_type": "markdown",
   "metadata": {
    "heading_collapsed": true
   },
   "source": [
    "#### Q3: 按照上述选取袋子的概率选择一个袋子，从中随机取一颗球。已知取出的球是红色，则所选的袋子为A的概率为？"
   ]
  },
  {
   "cell_type": "markdown",
   "metadata": {
    "hidden": true
   },
   "source": [
    "若完全遵循前题思路求解：  \n",
    "&emsp;  \n",
    "$$\\begin{aligned}P(取出的球是红球) &= \\pi_0 \\cdot B_{0, 0} + \\pi_1 \\cdot B_{1, 0} + \\pi_2 \\cdot B_{2, 0} \\\\ &= 0.3 \\cdot 0.6 + 0.5 \\cdot 0.3 + 0.2 \\cdot 0.5 \\\\ &= 0.43\\end{aligned}$$\n",
    "&emsp;  \n",
    "$$\\begin{aligned}P(选择的是袋A|取出的球是红色) &= \\frac{P(取出的球是红色|选择的是袋A) \\cdot P(选择的是袋A)}{P(取出的球是红色)} \\\\ &= \\frac{B_{0,0}\\cdot\\pi_0}{0.43} \\\\ &\\approx 0.4186\\end{aligned}$$  "
   ]
  },
  {
   "cell_type": "markdown",
   "metadata": {
    "hidden": true
   },
   "source": [
    "&emsp;  \n",
    "若选择全概率公式求解，则记选择A袋子为事件X，取出的球是红色为事件Y。 \n",
    "&emsp;  \n",
    "$$\\begin{aligned}P(X|Y) &= \\frac{P(Y|X) \\cdot P(X)}{P(Y|X) \\cdot P(X) + P(Y|\\neg X) \\cdot P(\\neg X)}\\end{aligned}$$  \n",
    "其中，$P(\\neg X)$为不取A袋的概率，$P(\\neg X) = 1 - \\pi_0 = 0.7$.  \n",
    "$P(Y|\\neg X)$为在已知不取A袋的条件下，取出的球是红色的概率。即取B袋或C袋时，取出的球是红色的概率。  \n",
    "记取到B袋为事件**X<sub>B</sub>**，取到C袋为事件**X<sub>C</sub>**，则\n",
    "$$P(X_B|\\neg X) = \\frac{P(\\neg X|X_B)P(X_B)}{P(\\neg X)} = \\frac{1 \\cdot \\pi_1}{1 - \\pi_0} = \\frac{5}{7}$$  \n",
    "$$P(X_C|\\neg X) = \\frac{P(\\neg X|X_C)P(X_C)}{P(\\neg X)} = \\frac{1 \\cdot \\pi_2}{1 - \\pi_0} = \\frac{2}{7}$$   \n",
    "&emsp;  \n",
    "$$\\begin{aligned}P(Y|\\neg X) &= P(X_B|\\neg X) \\cdot B_{1,0} + P(X_C|\\neg X) \\cdot B_{2,0} \\\\ &= \\frac{5}{7} \\cdot 0.3 + \\frac{2}{7} \\cdot 0.5 \\\\ &= \\frac{5}{14}\\end{aligned}$$  \n",
    "&emsp;  \n",
    "$$\\begin{aligned}P(X|Y) &= \\frac{P(Y|X) \\cdot P(X)}{P(Y|X) \\cdot P(X) + P(Y|\\neg X) \\cdot P(\\neg X)} \\\\ &= \\frac{0.6 \\cdot 0.3}{0.6 \\cdot 0.3 + 0.7 \\cdot \\frac{5}{14}} \\\\ &\\approx 0.4186\\end{aligned}$$  "
   ]
  },
  {
   "cell_type": "markdown",
   "metadata": {
    "ExecuteTime": {
     "end_time": "2022-08-16T06:12:05.625135Z",
     "start_time": "2022-08-16T06:12:05.607184Z"
    },
    "hidden": true
   },
   "source": [
    "----------------"
   ]
  },
  {
   "cell_type": "markdown",
   "metadata": {},
   "source": [
    "####    \n",
    "现考虑有放回的多次取袋、取球。对于首次取袋，仍然以 $\\pi$ 为概率。对于随后的取袋，考虑矩阵$\\mathbf{A} = \\begin{bmatrix}0.2 & 0.6 & 0.2 \\\\ 0.5 & 0.1 & 0.4 \\\\ 0.6 & 0.2 & 0.2\\end{bmatrix}$，其中$\\mathbf{A}_{i,j}$为若当前选择了袋 $i$ ，则下一次选袋时选择袋 $j$ 的概率。"
   ]
  },
  {
   "cell_type": "markdown",
   "metadata": {},
   "source": [
    "#### Q4: 现由甲开始执行连续的取袋 - 取球的操作。取袋的方式以上述的$\\pi$与$A$决定，每次取球后，记录下球的颜色，随后放回。在执行3次取球操作后，甲将所记录的球的颜色告知乙。假设乙所得知的3次取球的颜色依次为 红、白、红。那么，甲在这三次操作中，最有可能的取袋的顺序为？"
   ]
  },
  {
   "cell_type": "markdown",
   "metadata": {},
   "source": [
    " 基本思路：为保证某一个取袋序列的概率最大，则应保证：在该序列中，若第 $i$ 次取袋时取了袋 $j$ ，那么从第一次取袋到取了袋 $j$ 的这一次取袋的子序列，一定是所有可能的取袋方法（序列）中概率最大的一个。  \n",
    "对于某一次取袋，一定是取A、B、C三袋之一。如果记录了从第一次取袋到这一次取袋中取三个袋子的各自的最优（可能性最大）的取袋序列，则最终的取袋序列必为三者之一。  \n",
    "&emsp;  \n",
    "换成寻找最优路径的说法，即：若最优路径经过了某个点，则这条路径上从起点到这个点的这一段子路径，一定是起点到这个点的最优路径。  \n",
    "从起点到终点的路径，一定经过某个状态下的某个节点。假定该状态下有$k$个节点，则若记录了从起点到该状态下所有$k$个节点的最优路径，那么最终的最优路径必定经过其中一条。\n"
   ]
  },
  {
   "cell_type": "markdown",
   "metadata": {},
   "source": [
    "记$\\delta_{i, j}$为：第 $i$ 次取袋-取球时，若取是袋 $j$，此序列发生的最大概率。下面按照每次取袋来逐步分析计算。  "
   ]
  },
  {
   "cell_type": "markdown",
   "metadata": {},
   "source": [
    "第一次取袋。已知第一次取袋后，取出的球是红。  \n",
    "$$\\delta_{1,A} = \\pi_0 \\cdot B_{0,0} = 0.3 \\cdot 0.6 = 0.18$$\n",
    "$$\\delta_{1,B} = \\pi_1 \\cdot B_{1,0} = 0.5 \\cdot 0.3 = 0.15$$\n",
    "$$\\delta_{1,C} = \\pi_2 \\cdot B_{2,0} = 0.2 \\cdot 0.5 = 0.10$$\n",
    "即：$$\\mathbf{\\delta_1} = \\begin{bmatrix}0.18 & 0.15 & 0.1\\end{bmatrix}$$"
   ]
  },
  {
   "cell_type": "markdown",
   "metadata": {},
   "source": [
    "第二次取袋。已知第二次取袋后，取出的球是白。\n",
    "$$\\delta_{2,A} = max\\{\\delta_{1,A} \\cdot A_{0,0},　\\delta_{1,B} \\cdot A_{1,0},　\\delta_{1,C} \\cdot A_{2,0}\\} \\cdot B_{0,1} = max\\{0.18 \\times 0.2,　\\underline{\\text{0.15 $\\times$ 0.5}},　0.1 \\times 0.6\\} \\cdot 0.4 = 0.03　　对应路径为B-A$$\n",
    "$$\\delta_{2,B} = max\\{\\delta_{1,A} \\cdot A_{0,1},　\\delta_{1,B} \\cdot A_{1,1},　\\delta_{1,C} \\cdot A_{2,1}\\} \\cdot B_{1,1} = max\\{\\underline{\\text{0.18 $\\times$ 0.6}},　0.15 \\times 0.1,　0.1 \\times 0.2\\} \\cdot 0.7 = 0.0756　对应路径为A-B$$\n",
    "$$\\delta_{2,C} = max\\{\\delta_{1,A} \\cdot A_{0,2},　\\delta_{1,B} \\cdot A_{1,2},　\\delta_{1,C} \\cdot A_{2,2}\\} \\cdot B_{2,1} = max\\{0.18 \\times 0.2,　\\underline{\\text{0.15 $\\times$ 0.4}},　0.1 \\times 0.2\\} \\cdot 0.5 = 0.03　　对应路径为B-C$$"
   ]
  },
  {
   "cell_type": "markdown",
   "metadata": {},
   "source": [
    "将这一步写成矩阵乘法的形式：  \n",
    "&emsp;  \n",
    "$$\\mathbf{\\delta}_{2\\_tmp} = \\mathbf{\\delta}_1 \\cdot \\mathbf{A}^T \\cdot \\begin{bmatrix}\\mathbf{B}_{0,j} \\\\ \\mathbf{B}_{1,j} \\\\ \\mathbf{B}_{2,j}\\end{bmatrix}　　　　其中 j 为对应的观测状态$$\n",
    "&emsp;  \n",
    "$$\\mathbf{\\delta}_{2\\_tmp} = \\begin{bmatrix}0.18&0.15&0.1\\end{bmatrix} \\cdot \\begin{bmatrix}0.2&0.5&0.6\\\\0.6&0.1&0.2\\\\0.2&0.4&0.2\\end{bmatrix} \\cdot \\begin{bmatrix}0.4\\\\0.7\\\\0.5\\end{bmatrix} = \\begin{bmatrix}0.0144&\\underline{\\text{0.03}}&0.024\\\\\\underline{\\text{0.0756}}&0.0105&0.014\\\\0.018&\\underline{\\text{0.03}}&0.01\\end{bmatrix}$$\n",
    "&emsp;  \n",
    "$$\\mathbf{\\delta}_2 = \\begin{bmatrix}0.03&0.0756&0.03\\end{bmatrix}$$\n",
    "\n"
   ]
  },
  {
   "cell_type": "markdown",
   "metadata": {},
   "source": [
    "第三次取袋。已知第三次取袋后，取出的球是红。\n",
    "$$\\delta_{3,A} = max\\{\\delta_{2,A} \\cdot A_{0,0},　\\delta_{2,B} \\cdot A_{1,0},　\\delta_{2,C} \\cdot A_{2,0}\\} \\cdot B_{0,0} = max\\{0.03 \\times 0.2,　\\underline{\\text{0.0756 $\\times$ 0.5}},　0.03 \\times 0.6\\} \\cdot 0.6 = 0.02268　　对应路径为A-B-A$$\n",
    "$$\\delta_{3,B} = max\\{\\delta_{2,A} \\cdot A_{0,1},　\\delta_{2,B} \\cdot A_{1,1},　\\delta_{2,C} \\cdot A_{2,1}\\} \\cdot B_{1,0} = max\\{\\underline{\\text{0.03 $\\times$ 0.6}},　0.0756 \\times 0.1,　0.03 \\times 0.2\\} \\cdot 0.3 = 0.00540　　对应路径为B-A-B$$\n",
    "$$\\delta_{3,C} = max\\{\\delta_{2,A} \\cdot A_{0,2},　\\delta_{2,B} \\cdot A_{1,2},　\\delta_{2,C} \\cdot A_{2,2}\\} \\cdot B_{2,0} = max\\{0.03 \\times 0.2,　\\underline{\\text{0.0756 $\\times$ 0.4}},　0.03 \\times 0.2\\} \\cdot 0.5 = 0.01512　　对应路径为A-B-C$$"
   ]
  },
  {
   "cell_type": "markdown",
   "metadata": {
    "ExecuteTime": {
     "end_time": "2022-08-16T08:21:44.548684Z",
     "start_time": "2022-08-16T08:21:44.540705Z"
    }
   },
   "source": [
    "比较$\\delta_{3,A}$、$\\delta_{3,B}$、$\\delta_{3,C}$的值，$\\delta_{3,A}$最大。因此，最有可能的取袋序列为$A-B-A$"
   ]
  }
 ],
 "metadata": {
  "kernelspec": {
   "display_name": "Python 3",
   "language": "python",
   "name": "python3"
  },
  "language_info": {
   "codemirror_mode": {
    "name": "ipython",
    "version": 3
   },
   "file_extension": ".py",
   "mimetype": "text/x-python",
   "name": "python",
   "nbconvert_exporter": "python",
   "pygments_lexer": "ipython3",
   "version": "3.7.3"
  }
 },
 "nbformat": 4,
 "nbformat_minor": 4
}
